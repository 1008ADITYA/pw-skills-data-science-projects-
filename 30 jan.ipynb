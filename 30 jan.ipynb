{
 "cells": [
  {
   "cell_type": "code",
   "execution_count": 4,
   "id": "29a565d1-cbcb-412d-912f-a641eafa135d",
   "metadata": {},
   "outputs": [
    {
     "name": "stdin",
     "output_type": "stream",
     "text": [
      "enter the percentage 91\n"
     ]
    },
    {
     "name": "stdout",
     "output_type": "stream",
     "text": [
      "grade:A\n"
     ]
    }
   ],
   "source": [
    "# 1\n",
    "per=int(input(\"enter the percentage\"))\n",
    "if per >90 :\n",
    "    print(\"grade:A\")\n",
    "elif per>80 and per <=90 :\n",
    "    print(\"grade:B\")\n",
    "elif per>=60 and per <=80 :\n",
    "    print(\"grade:C\")    \n",
    "else:\n",
    "    print(\"grade:D\")"
   ]
  },
  {
   "cell_type": "code",
   "execution_count": 10,
   "id": "437711b6-ae83-4e68-8450-cb90e9b65c1f",
   "metadata": {},
   "outputs": [
    {
     "name": "stdin",
     "output_type": "stream",
     "text": [
      "enter the cost price of bike 120000\n"
     ]
    },
    {
     "name": "stdout",
     "output_type": "stream",
     "text": [
      "road tax paid=15% of  120000 : 18000.0\n"
     ]
    }
   ],
   "source": [
    "# 2\n",
    "cp=int(input(\"enter the cost price of bike\"))\n",
    "if cp>100000 :\n",
    "    tax=(15*cp)/100\n",
    "    print(\"road tax paid=15% of \",cp,\":\",tax)\n",
    "elif cp>50000 and cp<=100000 :\n",
    "    tax=(10*cp)/100\n",
    "    print(\"road tax paid=10% of \",cp,\":\",tax)\n",
    "else :\n",
    "    tax=(5*cp)/100\n",
    "    print(\"road tax paid=5% of \",cp,\":\",tax)    "
   ]
  },
  {
   "cell_type": "code",
   "execution_count": 14,
   "id": "8b12c587-3729-4d06-adac-abd9d670ae9b",
   "metadata": {},
   "outputs": [
    {
     "name": "stdin",
     "output_type": "stream",
     "text": [
      "<built-in method keys of dict object at 0x7f4e682a38c0> jaipur\n"
     ]
    },
    {
     "name": "stdout",
     "output_type": "stream",
     "text": [
      "jal mahal\n"
     ]
    }
   ],
   "source": [
    "# 3\n",
    "city={\"delhi\":\"red fort\",\"agra\":\"taj mahal\",\"jaipur\":\"jal mahal\"}\n",
    "i=input(city.keys)\n",
    "print(city[i])"
   ]
  },
  {
   "cell_type": "code",
   "execution_count": 19,
   "id": "aff06ea5-7a4f-4c34-8d23-9076dc94c009",
   "metadata": {},
   "outputs": [
    {
     "name": "stdin",
     "output_type": "stream",
     "text": [
      "enter the number 300\n"
     ]
    },
    {
     "name": "stdout",
     "output_type": "stream",
     "text": [
      "4\n"
     ]
    }
   ],
   "source": [
    "# 4\n",
    "n=int(input(\"enter the number\"))\n",
    "c=0\n",
    "while n>=10:\n",
    "    n=n/3\n",
    "    c=c+1\n",
    "print(c)    \n",
    "    \n",
    "    "
   ]
  },
  {
   "cell_type": "code",
   "execution_count": null,
   "id": "383497cb-7ad3-4b3d-9edf-f0110a7a0922",
   "metadata": {},
   "outputs": [],
   "source": [
    "# 5\n",
    "\"\"\"In Python, a while loop is used when you want to repeatedly execute a block of code as long as a certain condition is true.\n",
    "This type of loop is ideal when you don't know in advance how many times the code should be executed, \n",
    "and you want to keep iterating until a specific condition is no longer met. \n",
    "The general syntax of a `while` loop in Python is as follows:\n",
    "\n",
    "while condition:\n",
    "    # Code to be executed as long as the condition is true\n",
    "\n",
    "When to Use `while` Loop:\n",
    "\n",
    "1. Unknown Iteration Count:\n",
    "   ->Use a `while` loop when the number of iterations is not known beforehand, and it depends on a runtime condition.\n",
    "\n",
    "2. Continuous Execution:\n",
    "   -> Use `while` loop when you need continuous execution until a certain condition becomes false.\n",
    "\n",
    "3. Interactive Programs:\n",
    "   -> It's often used in interactive programs where the user is prompted for input until a specific condition is met.\n",
    "\n",
    "\n",
    "\n",
    "s correct or not. The loop exits when the user makes the correct guess.\n",
    "\n",
    "Remember to be cautious with `while` loops to avoid infinite loops. \n",
    "Ensure that the loop's condition will eventually become false based on some logical condition,\n",
    "or include a mechanism to break out of the loop when necessary.\"\"\""
   ]
  },
  {
   "cell_type": "code",
   "execution_count": 41,
   "id": "981a243b-c3c9-44c4-8c99-db228376a526",
   "metadata": {},
   "outputs": [
    {
     "name": "stdin",
     "output_type": "stream",
     "text": [
      "enter the size 5\n"
     ]
    },
    {
     "name": "stdout",
     "output_type": "stream",
     "text": [
      "* * * * * \n",
      "* * * * * \n",
      "* * * * * \n",
      "* * * * * \n",
      "* * * * * \n"
     ]
    }
   ],
   "source": [
    "# 6a square pattern\n",
    "n=int(input(\"enter the size\"))\n",
    "for i in range(n):\n",
    "    for j in range (n):\n",
    "        print(\"*\",end=\" \")\n",
    "    print()       \n"
   ]
  },
  {
   "cell_type": "code",
   "execution_count": 38,
   "id": "4bda885d-c6da-4c19-b96e-748d0c3743a5",
   "metadata": {},
   "outputs": [
    {
     "name": "stdin",
     "output_type": "stream",
     "text": [
      "enter the size 5\n"
     ]
    },
    {
     "name": "stdout",
     "output_type": "stream",
     "text": [
      "* \n",
      "* * \n",
      "* * * \n",
      "* * * * \n",
      "* * * * * \n"
     ]
    }
   ],
   "source": [
    "# 6b right triangle pattern\n",
    "n=int(input(\"enter the size\"))\n",
    "for i in range(n):\n",
    "    for j in range(i+1):\n",
    "        print(\"*\",end=\" \")\n",
    "    print()    \n"
   ]
  },
  {
   "cell_type": "code",
   "execution_count": 50,
   "id": "43dbceea-bf50-4dc9-8745-9cfcd23d22f8",
   "metadata": {},
   "outputs": [
    {
     "name": "stdin",
     "output_type": "stream",
     "text": [
      "enter the size 5\n"
     ]
    },
    {
     "name": "stdout",
     "output_type": "stream",
     "text": [
      "* * * * * \n",
      "* * * * \n",
      "* * * \n",
      "* * \n",
      "* \n"
     ]
    }
   ],
   "source": [
    "# 6c\n",
    "n=int(input(\"enter the size\"))\n",
    "for i in range(n,0,-1):\n",
    "    for j in range(i):\n",
    "        print(\"*\",end=' ')\n",
    "    print()    \n"
   ]
  },
  {
   "cell_type": "code",
   "execution_count": 51,
   "id": "710a9051-1126-442c-91c6-69714367308a",
   "metadata": {},
   "outputs": [
    {
     "name": "stdout",
     "output_type": "stream",
     "text": [
      "10\n",
      "9\n",
      "8\n",
      "7\n",
      "6\n",
      "5\n",
      "4\n",
      "3\n",
      "2\n",
      "1\n"
     ]
    }
   ],
   "source": [
    "# 7\n",
    "n=10\n",
    "while n!=0 :\n",
    "    print(n)\n",
    "    n=n-1"
   ]
  },
  {
   "cell_type": "code",
   "execution_count": null,
   "id": "2cf3bd36-b46b-4abf-8ff9-7a4fdc7114d2",
   "metadata": {},
   "outputs": [],
   "source": []
  }
 ],
 "metadata": {
  "kernelspec": {
   "display_name": "Python 3 (ipykernel)",
   "language": "python",
   "name": "python3"
  },
  "language_info": {
   "codemirror_mode": {
    "name": "ipython",
    "version": 3
   },
   "file_extension": ".py",
   "mimetype": "text/x-python",
   "name": "python",
   "nbconvert_exporter": "python",
   "pygments_lexer": "ipython3",
   "version": "3.10.8"
  }
 },
 "nbformat": 4,
 "nbformat_minor": 5
}

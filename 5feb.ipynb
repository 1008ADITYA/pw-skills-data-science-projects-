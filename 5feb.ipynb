{
 "cells": [
  {
   "cell_type": "code",
   "execution_count": 1,
   "id": "40e92df1-8d20-412d-8da8-613e3234d7a6",
   "metadata": {},
   "outputs": [
    {
     "name": "stdout",
     "output_type": "stream",
     "text": [
      "Toyota Camry\n",
      "Honda Civic\n"
     ]
    }
   ],
   "source": [
    "# 1\n",
    "\"\"\"Class:\n",
    "A class in Object-Oriented Programming (OOP) is a blueprint or a template for creating objects.\n",
    "It defines a set of attributes and methods that the objects created from the class will have. In simpler terms, a class is a user-defined data type that encapsulates data and behavior.\n",
    "\n",
    "Object:\n",
    "An object is an instance of a class. \n",
    "It is a concrete entity created from a class and has its own unique state and behavior. Objects represent real-world entities and interact with each other to perform various operations.\n",
    "\n",
    "Example:\"\"\"\n",
    "\n",
    "class Car:\n",
    "    def __init__(self, make, model):\n",
    "        self.make = make\n",
    "        self.model = model\n",
    "\n",
    "    def display_info(self):\n",
    "        print(f\"{self.make} {self.model}\")\n",
    "\n",
    "\n",
    "car1 = Car(\"Toyota\", \"Camry\")\n",
    "car2 = Car(\"Honda\", \"Civic\")\n",
    "\n",
    "\n",
    "car1.display_info()\n",
    "car2.display_info()"
   ]
  },
  {
   "cell_type": "code",
   "execution_count": 3,
   "id": "0999e410-e5c2-47f0-9ac3-6f156b759f09",
   "metadata": {},
   "outputs": [],
   "source": [
    "# 2\n",
    "\"\"\"The four pillars of Object-Oriented Programming are:\n",
    "\n",
    "Encapsulation: It involves bundling the data (attributes) and the methods that operate on the data into a single unit known as a class. Access to the data is restricted to within the class, and it can be controlled through methods.\n",
    "\n",
    "Abstraction: It refers to the process of hiding the complex implementation details and showing only the relevant features of an object. Abstraction allows you to focus on what an object does rather than how it achieves its functionality.\n",
    "\n",
    "Inheritance: It is a mechanism that allows a new class (subclass/derived class) to inherit properties and behaviors from an existing class (base class/parent class). It promotes code reusability and establishes a relationship between the classes.\n",
    "\n",
    "Polymorphism: It allows objects of different classes to be treated as objects of a common base class. Polymorphism can take various forms, such as method overloading (same method name with different parameters) and method overriding (same method name in both the base and derived class).\"\"\""
   ]
  },
  {
   "cell_type": "code",
   "execution_count": 4,
   "id": "1dd90ac9-eaac-49df-aa77-b1dccb77ea89",
   "metadata": {},
   "outputs": [
    {
     "name": "stdout",
     "output_type": "stream",
     "text": [
      "Name: John, Age: 25\n",
      "Name: Alice, Age: 30\n"
     ]
    }
   ],
   "source": [
    "# 3\n",
    "# The __init__() function is a special method in Python classes used for initializing the object's attributes. It is called automatically when an object is created from a class. The purpose of __init__() is to set the initial state of the object by assigning values to its attributes.\n",
    "class Person:\n",
    "    def __init__(self, name, age):\n",
    "        self.name = name\n",
    "        self.age = age\n",
    "\n",
    "    def display_info(self):\n",
    "        print(f\"Name: {self.name}, Age: {self.age}\")\n",
    "\n",
    "# Creating objects and initializing attributes using __init__()\n",
    "person1 = Person(\"John\", 25)\n",
    "person2 = Person(\"Alice\", 30)\n",
    "\n",
    "# Accessing object attributes and calling methods\n",
    "person1.display_info()  # Output: Name: John, Age: 25\n",
    "person2.display_info()  # Output: Name: Alice, Age: 30\n"
   ]
  },
  {
   "cell_type": "code",
   "execution_count": null,
   "id": "2350d97f-e727-486c-9b54-ca052c9e9b7b",
   "metadata": {},
   "outputs": [],
   "source": [
    "# 4\n",
    "\"\"\"In object-oriented programming (OOP), self is a convention used to represent the instance of the class. It is the first parameter that every method in a class must have, although it is not explicitly passed during method calls. When you call a method on an object, the object itself is automatically passed as the first parameter to the method.\n",
    "\n",
    "The use of self allows you to access and manipulate the object's attributes within the class. It helps in distinguishing between instance variables (object-specific attributes) and local variables within a method.\"\"\""
   ]
  },
  {
   "cell_type": "code",
   "execution_count": 5,
   "id": "231dc747-b28b-4eaf-807b-5d0e12ed492d",
   "metadata": {},
   "outputs": [
    {
     "ename": "SyntaxError",
     "evalue": "invalid syntax (1658558096.py, line 2)",
     "output_type": "error",
     "traceback": [
      "\u001b[0;36m  Cell \u001b[0;32mIn[5], line 2\u001b[0;36m\u001b[0m\n\u001b[0;31m    Inheritance:\u001b[0m\n\u001b[0m                ^\u001b[0m\n\u001b[0;31mSyntaxError\u001b[0m\u001b[0;31m:\u001b[0m invalid syntax\n"
     ]
    }
   ],
   "source": [
    "# 5\n",
    "# Inheritance:\n",
    "# Inheritance is a fundamental concept in OOP that allows a new class to inherit the properties and behaviors (attributes and methods) of an existing class. The existing class is known as the base class or parent class, and the new class is called the derived class or subclass. Inheritance promotes code reuse and establishes a relationship between classes.\n",
    "\n",
    "# Types of Inheritance:\n",
    "\n",
    "# Single Inheritance:\n",
    "\n",
    "# In single inheritance, a subclass inherits from only one base class.\n",
    "\n",
    "class Animal:\n",
    "    def speak(self):\n",
    "        print(\"Animal speaks\")\n",
    "\n",
    "class Dog(Animal):\n",
    "    def bark(self):\n",
    "        print(\"Dog barks\")\n",
    "\n",
    "my_dog = Dog()\n",
    "my_dog.speak() \n",
    "my_dog.bark()  \n",
    "# Multiple Inheritance:\n",
    "\n",
    "# Multiple inheritance allows a subclass to inherit from more than one base class.\n",
    "\n",
    "class Flyable:\n",
    "    def fly(self):\n",
    "        print(\"Can fly\")\n",
    "\n",
    "class Swimmable:\n",
    "    def swim(self):\n",
    "        print(\"Can swim\")\n",
    "\n",
    "class FlyingFish(Flyable, Swimmable):\n",
    "    pass\n",
    "\n",
    "\n",
    "fish = FlyingFish()\n",
    "fish.fly()\n",
    "fish.swim()\n",
    "# Multilevel Inheritance:\n",
    "\n",
    "# Multilevel inheritance involves a chain of inheritance with multiple levels of classes.\n",
    "class A:\n",
    "    def method_A(self):\n",
    "        print(\"Method of class A\")\n",
    "\n",
    "class B(A):\n",
    "    def method_B(self):\n",
    "        print(\"Method of class B\")\n",
    "\n",
    "class C(B):\n",
    "    def method_C(self):\n",
    "        print(\"Method of class C\")\n",
    "\n",
    "obj_C = C()\n",
    "obj_C.method_A()\n",
    "obj_C.method_B()\n",
    "obj_C.method_C()\n",
    "# Hierarchical Inheritance:\n",
    "\n",
    "# Hierarchical inheritance involves multiple classes inheriting from a single base class.\n",
    "class Shape:\n",
    "    def draw(self):\n",
    "        print(\"Drawing shape\")\n",
    "\n",
    "class Circle(Shape):\n",
    "    def draw_circle(self):\n",
    "        print(\"Drawing circle\")\n",
    "\n",
    "class Square(Shape):\n",
    "    def draw_square(self):\n",
    "        print(\"Drawing square\")\n",
    "\n",
    "# Creating objects of the Circle and Square classes\n",
    "circle = Circle()\n",
    "square = Square()\n",
    "\n",
    "circle.draw()        # Output: Drawing shape\n",
    "circle.draw_circle()  # Output: Drawing circle\n",
    "\n",
    "square.draw()        # Output: Drawing shape\n",
    "square.draw_square()  # Output: Drawing square"
   ]
  },
  {
   "cell_type": "code",
   "execution_count": null,
   "id": "67e0bb92-0d02-4c20-a590-c1aa21a66165",
   "metadata": {},
   "outputs": [],
   "source": []
  }
 ],
 "metadata": {
  "kernelspec": {
   "display_name": "Python 3 (ipykernel)",
   "language": "python",
   "name": "python3"
  },
  "language_info": {
   "codemirror_mode": {
    "name": "ipython",
    "version": 3
   },
   "file_extension": ".py",
   "mimetype": "text/x-python",
   "name": "python",
   "nbconvert_exporter": "python",
   "pygments_lexer": "ipython3",
   "version": "3.10.8"
  }
 },
 "nbformat": 4,
 "nbformat_minor": 5
}

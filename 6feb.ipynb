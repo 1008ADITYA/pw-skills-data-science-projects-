{
 "cells": [
  {
   "cell_type": "code",
   "execution_count": 5,
   "id": "aa7b54b0-811d-4cc3-87ca-8da189424c9c",
   "metadata": {},
   "outputs": [],
   "source": [
    "# 1\n",
    "def a(l):\n",
    "    l1=[]\n",
    "    for i in l:\n",
    "        if type(i)==int:\n",
    "            l1.append(i)\n",
    "        if type(i)==list or type(i)==tuple or type(i)==set:\n",
    "            for x in i:\n",
    "                if type(x)==int:\n",
    "                    l1.append(x)\n",
    "        if type(i)==dict:\n",
    "            a,b=list(i.keys()),list(i.values())\n",
    "            for q in a:\n",
    "                if type(q)==int:\n",
    "                    l1.append(q)\n",
    "            for w in b:\n",
    "                if type(w)==int:\n",
    "                    l1.append(w)\n",
    "    print(l1)\n",
    "    result=1\n",
    "    for i in l1:\n",
    "        result=result*i\n",
    "    print(result)\n"
   ]
  },
  {
   "cell_type": "code",
   "execution_count": 7,
   "id": "e61e4f96-7a03-47f2-a565-d16fd57bf660",
   "metadata": {},
   "outputs": [
    {
     "name": "stdout",
     "output_type": "stream",
     "text": [
      "[1, 2, 3, 4, 44, 55, 66, 34, 56, 78, 89, 34, 1, 2, 3, 1, 4, 34, 56]\n",
      "78718933113238978560\n"
     ]
    }
   ],
   "source": [
    "list1=[1,2,3,4,[44,55,66,True],False,(34,56,78,89,34),{1,2,3,3,2,1},{1:34,\"keys2\":[57,67,78,89],4:(45,22,61,34)},[56,'data science'],'machine learning']\n",
    "a(list1)"
   ]
  },
  {
   "cell_type": "code",
   "execution_count": 25,
   "id": "264cf1fc-c3d8-4ceb-9939-29a3f97f0641",
   "metadata": {},
   "outputs": [],
   "source": [
    "# 2\n",
    "def message(l):\n",
    "    encrypt_message=\" \"\n",
    "    for i in l:\n",
    "        if i.isalpha():\n",
    "            encrypt_i=chr(ord('z')(ord(i)-ord('a')))\n",
    "            encrypt_message=encrypt_message+encrypt_i\n",
    "        elif i.isspace():\n",
    "            encrypt_message=encrypt_message+'$'\n",
    "        else:\n",
    "            encrypt_message=encrypt_message+i\n",
    "    return encrypt_message      \n",
    "                    \n",
    "        \n",
    "        \n"
   ]
  },
  {
   "cell_type": "code",
   "execution_count": 26,
   "id": "fd61bc56-cad6-47c5-8400-5c42857210c3",
   "metadata": {},
   "outputs": [
    {
     "ename": "TypeError",
     "evalue": "'int' object is not callable",
     "output_type": "error",
     "traceback": [
      "\u001b[0;31m---------------------------------------------------------------------------\u001b[0m",
      "\u001b[0;31mTypeError\u001b[0m                                 Traceback (most recent call last)",
      "Cell \u001b[0;32mIn[26], line 2\u001b[0m\n\u001b[1;32m      1\u001b[0m input_str\u001b[38;5;241m=\u001b[39m\u001b[38;5;124m\"\u001b[39m\u001b[38;5;124mI want to become a Data Scientist.\u001b[39m\u001b[38;5;124m\"\u001b[39m\n\u001b[0;32m----> 2\u001b[0m \u001b[43mmessage\u001b[49m\u001b[43m(\u001b[49m\u001b[43minput_str\u001b[49m\u001b[38;5;241;43m.\u001b[39;49m\u001b[43mlower\u001b[49m\u001b[43m(\u001b[49m\u001b[43m)\u001b[49m\u001b[43m)\u001b[49m\n",
      "Cell \u001b[0;32mIn[25], line 6\u001b[0m, in \u001b[0;36mmessage\u001b[0;34m(l)\u001b[0m\n\u001b[1;32m      4\u001b[0m \u001b[38;5;28;01mfor\u001b[39;00m i \u001b[38;5;129;01min\u001b[39;00m l:\n\u001b[1;32m      5\u001b[0m     \u001b[38;5;28;01mif\u001b[39;00m i\u001b[38;5;241m.\u001b[39misalpha():\n\u001b[0;32m----> 6\u001b[0m         encrypt_i\u001b[38;5;241m=\u001b[39m\u001b[38;5;28mchr\u001b[39m(\u001b[38;5;28;43mord\u001b[39;49m\u001b[43m(\u001b[49m\u001b[38;5;124;43m'\u001b[39;49m\u001b[38;5;124;43mz\u001b[39;49m\u001b[38;5;124;43m'\u001b[39;49m\u001b[43m)\u001b[49m\u001b[43m(\u001b[49m\u001b[38;5;28;43mord\u001b[39;49m\u001b[43m(\u001b[49m\u001b[43mi\u001b[49m\u001b[43m)\u001b[49m\u001b[38;5;241;43m-\u001b[39;49m\u001b[38;5;28;43mord\u001b[39;49m\u001b[43m(\u001b[49m\u001b[38;5;124;43m'\u001b[39;49m\u001b[38;5;124;43ma\u001b[39;49m\u001b[38;5;124;43m'\u001b[39;49m\u001b[43m)\u001b[49m\u001b[43m)\u001b[49m)\n\u001b[1;32m      7\u001b[0m         encrypt_message\u001b[38;5;241m=\u001b[39mencrypt_message\u001b[38;5;241m+\u001b[39mencrypt_i\n\u001b[1;32m      8\u001b[0m     \u001b[38;5;28;01melif\u001b[39;00m i\u001b[38;5;241m.\u001b[39misspace():\n",
      "\u001b[0;31mTypeError\u001b[0m: 'int' object is not callable"
     ]
    }
   ],
   "source": [
    "input_str=\"I want to become a Data Scientist.\"\n",
    "message(input_str.lower())"
   ]
  },
  {
   "cell_type": "code",
   "execution_count": 22,
   "id": "fe2d4e0b-eb08-40b2-bbff-a0f8817089a9",
   "metadata": {},
   "outputs": [
    {
     "data": {
      "text/plain": [
       "'y'"
      ]
     },
     "execution_count": 22,
     "metadata": {},
     "output_type": "execute_result"
    }
   ],
   "source": [
    "chr(121)"
   ]
  },
  {
   "cell_type": "code",
   "execution_count": null,
   "id": "350533d0-0b08-4982-ac4e-57a7fb6bd3da",
   "metadata": {},
   "outputs": [],
   "source": []
  }
 ],
 "metadata": {
  "kernelspec": {
   "display_name": "Python 3 (ipykernel)",
   "language": "python",
   "name": "python3"
  },
  "language_info": {
   "codemirror_mode": {
    "name": "ipython",
    "version": 3
   },
   "file_extension": ".py",
   "mimetype": "text/x-python",
   "name": "python",
   "nbconvert_exporter": "python",
   "pygments_lexer": "ipython3",
   "version": "3.10.8"
  }
 },
 "nbformat": 4,
 "nbformat_minor": 5
}

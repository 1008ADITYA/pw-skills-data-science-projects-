{
 "cells": [
  {
   "cell_type": "code",
   "execution_count": null,
   "id": "61934c7e-dcaf-4890-ad33-b77560701791",
   "metadata": {},
   "outputs": [],
   "source": [
    "'1.Python Programming Language was developed by Guido van Rossum'"
   ]
  },
  {
   "cell_type": "code",
   "execution_count": null,
   "id": "f9811d82-e85a-482f-9b23-f25bed5f3076",
   "metadata": {},
   "outputs": [],
   "source": [
    "'2. Python supports multiple types of programming including procedural, object-oriented, and functional programming.'"
   ]
  },
  {
   "cell_type": "code",
   "execution_count": null,
   "id": "0dbb4acc-e1d2-4d51-a2eb-3ea20be9849d",
   "metadata": {},
   "outputs": [],
   "source": [
    "'3. Yes, Python is case sensitive when dealing with identifiers.'"
   ]
  },
  {
   "cell_type": "code",
   "execution_count": null,
   "id": "6aaabb8e-533b-4ef8-87d3-da4fbf8c8da7",
   "metadata": {},
   "outputs": [],
   "source": [
    "'4. The correct extension of a Python file is .py.'"
   ]
  },
  {
   "cell_type": "code",
   "execution_count": null,
   "id": "f097de33-3650-47c2-a6a2-8b5c2fe4e47d",
   "metadata": {},
   "outputs": [],
   "source": [
    "'5. Python code is interpreted.'\n"
   ]
  },
  {
   "cell_type": "code",
   "execution_count": null,
   "id": "d97cc060-f570-41e1-b687-3f65025b96f4",
   "metadata": {},
   "outputs": [],
   "source": [
    "'6. Functions, loops, and conditional blocks are some of the blocks of code used in Python language.'"
   ]
  },
  {
   "cell_type": "code",
   "execution_count": null,
   "id": "022c191f-a101-464f-ba30-c521fc789463",
   "metadata": {},
   "outputs": [],
   "source": [
    "\"7. The '#' character is used to give single-line comments in Python.\""
   ]
  },
  {
   "cell_type": "code",
   "execution_count": null,
   "id": "7d2a4694-73eb-476b-abf0-43f31c20f9fc",
   "metadata": {},
   "outputs": [],
   "source": [
    "\"8. Functions like `sys.version` and `platform.python_version()` can help us find the version of python that we are currently working on.\""
   ]
  },
  {
   "cell_type": "code",
   "execution_count": null,
   "id": "488ab96b-d62c-454d-84e8-0d9696e145f6",
   "metadata": {},
   "outputs": [],
   "source": [
    "\"9. Python supports the creation of anonymous functions at runtime using a construct called Lambda.\""
   ]
  },
  {
   "cell_type": "code",
   "execution_count": null,
   "id": "510f60e6-398e-4698-be85-1e7fa8083091",
   "metadata": {},
   "outputs": [],
   "source": [
    "'''10. PIP stands for \"Pip Installs Packages\" or \"Preferred Installer Program\" for python.'''\n"
   ]
  },
  {
   "cell_type": "code",
   "execution_count": null,
   "id": "acc917ef-c77a-4073-b5a4-7ab5507e8bf6",
   "metadata": {},
   "outputs": [],
   "source": [
    "'''11. Built-in functions in python include `print()`, `len()`, `type()`, `str()`, `int()` etc.'''"
   ]
  },
  {
   "cell_type": "code",
   "execution_count": null,
   "id": "38b4a4d6-5029-4943-937c-fbd09d17b7f8",
   "metadata": {},
   "outputs": [],
   "source": [
    "'''12. There isn't a maximum length for an identifier in Python; it's limited by the memory available.'''"
   ]
  },
  {
   "cell_type": "code",
   "execution_count": null,
   "id": "be78c493-f12a-4027-a602-e840e0814369",
   "metadata": {},
   "outputs": [],
   "source": [
    "'''13. Benefits of using Python¹⁶¹⁷¹⁸:\n",
    "    - Python is a high-level, general-purpose, dynamically typed, and interpreted programming language.\n",
    "    - It has a large and active community that contributes to its development and provides support.\n",
    "    - Python offers intuitive and easy-to-use data structures, simplifying data manipulation and management.\n",
    "    - Python is known for its simplicity and readability, making it an excellent choice for both beginners and experienced programmers.\n",
    "    - Python is portable across operating systems and interactive, allowing real-time code execution and testing.\n",
    "    - Python’s concise syntax allows developers to prototype applications quickly with less code.'''"
   ]
  },
  {
   "cell_type": "code",
   "execution_count": null,
   "id": "9b90dbc6-55e0-44d2-9018-0998db639b5d",
   "metadata": {},
   "outputs": [],
   "source": [
    "'''14. Memory Management in Python⁶⁷⁸⁹[^10^]:\n",
    "    - Python uses a memory management system called reference counting to manage the memory used by objects in the program.\n",
    "    - Python memory allocation and deallocation is handled by the garbage collector and reference counting.\n",
    "    - Memory in Python is managed by Python private heap space. All Python objects and data structures are located in a private heap.\n",
    "    - The Python memory manager takes care of the allocation of Python private heap space.'''"
   ]
  },
  {
   "cell_type": "code",
   "execution_count": null,
   "id": "b2d3ab9d-9be3-4730-9cc1-1eb491b0d5f2",
   "metadata": {},
   "outputs": [],
   "source": [
    "'''15. How to install Python on Windows and set path variables¹¹¹²¹³¹⁴¹⁵:\n",
    "    - Download a recent version of Python, and then check the box to Add Python to PATH at the bottom of the setup screen.\n",
    "    - Finish the installation, and you should be good to go.\n",
    "    - Alternatively, you may manually add the paths into the Environment variables.'''"
   ]
  },
  {
   "cell_type": "code",
   "execution_count": null,
   "id": "55d7a61c-decb-4d1b-9d7f-4225db5de759",
   "metadata": {},
   "outputs": [],
   "source": [
    "'''16. Yes, **indentation is required** in Python. It is used to define the level of code blocks and scope in the code. Incorrect indentation can lead to errors or unexpected behavior in Python programs.'''"
   ]
  },
  {
   "cell_type": "code",
   "execution_count": null,
   "id": "d1c28987-f178-4935-9d43-3340c0a976c0",
   "metadata": {},
   "outputs": [],
   "source": []
  }
 ],
 "metadata": {
  "kernelspec": {
   "display_name": "Python 3 (ipykernel)",
   "language": "python",
   "name": "python3"
  },
  "language_info": {
   "codemirror_mode": {
    "name": "ipython",
    "version": 3
   },
   "file_extension": ".py",
   "mimetype": "text/x-python",
   "name": "python",
   "nbconvert_exporter": "python",
   "pygments_lexer": "ipython3",
   "version": "3.10.8"
  }
 },
 "nbformat": 4,
 "nbformat_minor": 5
}

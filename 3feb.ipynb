{
 "cells": [
  {
   "cell_type": "code",
   "execution_count": 9,
   "id": "b3e2f72b-1c5e-4858-a63f-989b7bf75f51",
   "metadata": {},
   "outputs": [],
   "source": [
    "# 1\n",
    "'''\"def\" keyword is used to create a function'''\n",
    "def test():\n",
    "    return(i for i in range(1,25) if i%2!=0)    "
   ]
  },
  {
   "cell_type": "code",
   "execution_count": 11,
   "id": "cb655bf5-7c94-401e-b35f-0355a89f876d",
   "metadata": {},
   "outputs": [
    {
     "data": {
      "text/plain": [
       "[1, 3, 5, 7, 9, 11, 13, 15, 17, 19, 21, 23]"
      ]
     },
     "execution_count": 11,
     "metadata": {},
     "output_type": "execute_result"
    }
   ],
   "source": [
    "list(test())"
   ]
  },
  {
   "cell_type": "code",
   "execution_count": 1,
   "id": "59582233-6dac-4c3c-b4c7-6a79eb898f49",
   "metadata": {},
   "outputs": [],
   "source": [
    "# 2\n",
    "\"\"\"*args and **lwargs are used to allow pass variable arguments\n",
    "eg\"\"\"\n",
    "# *args\n",
    "def list1(*args):\n",
    "    for i in args:\n",
    "        print(i)\n",
    "# **kwargs\n",
    "def list2(**kwargs):\n",
    "    for key,value in kwargs.items():\n",
    "        print(f\"{key}:{value}\")"
   ]
  },
  {
   "cell_type": "code",
   "execution_count": 2,
   "id": "f6fb54d5-b7fe-48f1-a043-90ab86752022",
   "metadata": {},
   "outputs": [
    {
     "name": "stdout",
     "output_type": "stream",
     "text": [
      "1\n",
      "2\n",
      "90\n",
      "4\n",
      "55\n"
     ]
    }
   ],
   "source": [
    "list1(1,2,90,4,55)"
   ]
  },
  {
   "cell_type": "code",
   "execution_count": 10,
   "id": "20e093e9-b2e0-4a8b-81cc-b79bfe7d46fe",
   "metadata": {},
   "outputs": [
    {
     "name": "stdout",
     "output_type": "stream",
     "text": [
      "name:aditya\n",
      "r_no:1\n"
     ]
    }
   ],
   "source": [
    "list2(name=\"aditya\",r_no=1)"
   ]
  },
  {
   "cell_type": "code",
   "execution_count": 13,
   "id": "1cc3d2bf-cec9-4088-9ac7-94845f5473ae",
   "metadata": {},
   "outputs": [
    {
     "name": "stdout",
     "output_type": "stream",
     "text": [
      "2\n",
      "4\n",
      "6\n",
      "8\n",
      "10\n"
     ]
    }
   ],
   "source": [
    "# 3\n",
    "'''An iterator is an object that can be iterated (looped) over. \n",
    "The iter() method is used to initialize the iterator object,\n",
    "and the next() method is used for iteration.'''\n",
    "list=[2,4,6,8,10,12,14,16,18,20]\n",
    "list=iter(list)\n",
    "for i in range(5):\n",
    "    print(next(list))"
   ]
  },
  {
   "cell_type": "code",
   "execution_count": 1,
   "id": "0b3b45dc-01d6-4f35-9b04-162e7ce44030",
   "metadata": {},
   "outputs": [
    {
     "name": "stdout",
     "output_type": "stream",
     "text": [
      "0\n",
      "1\n",
      "1\n",
      "2\n",
      "3\n",
      "5\n",
      "8\n",
      "13\n",
      "21\n",
      "34\n"
     ]
    }
   ],
   "source": [
    "# 6\n",
    "a,b=0,1\n",
    "n=1\n",
    "while n<=10 :\n",
    "    print(a)\n",
    "    c=a+b\n",
    "    a=b\n",
    "    b=c\n",
    "    n=n+1\n",
    "\n"
   ]
  },
  {
   "cell_type": "code",
   "execution_count": 2,
   "id": "f15a24c7-f8e4-41f3-896a-01f4d490d4f7",
   "metadata": {},
   "outputs": [
    {
     "data": {
      "text/plain": [
       "['p', 'w', 's', 'l', 'i', 'l', 'l', 's']"
      ]
     },
     "execution_count": 2,
     "metadata": {},
     "output_type": "execute_result"
    }
   ],
   "source": [
    "# 7\n",
    "list(i for i in \"pwslills\")\n"
   ]
  },
  {
   "cell_type": "code",
   "execution_count": 3,
   "id": "91ff174c-c7de-4c24-bb93-31bb076d58ce",
   "metadata": {},
   "outputs": [
    {
     "data": {
      "text/plain": [
       "[1,\n",
       " 3,\n",
       " 5,\n",
       " 7,\n",
       " 9,\n",
       " 11,\n",
       " 13,\n",
       " 15,\n",
       " 17,\n",
       " 19,\n",
       " 21,\n",
       " 23,\n",
       " 25,\n",
       " 27,\n",
       " 29,\n",
       " 31,\n",
       " 33,\n",
       " 35,\n",
       " 37,\n",
       " 39,\n",
       " 41,\n",
       " 43,\n",
       " 45,\n",
       " 47,\n",
       " 49,\n",
       " 51,\n",
       " 53,\n",
       " 55,\n",
       " 57,\n",
       " 59,\n",
       " 61,\n",
       " 63,\n",
       " 65,\n",
       " 67,\n",
       " 69,\n",
       " 71,\n",
       " 73,\n",
       " 75,\n",
       " 77,\n",
       " 79,\n",
       " 81,\n",
       " 83,\n",
       " 85,\n",
       " 87,\n",
       " 89,\n",
       " 91,\n",
       " 93,\n",
       " 95,\n",
       " 97,\n",
       " 99]"
      ]
     },
     "execution_count": 3,
     "metadata": {},
     "output_type": "execute_result"
    }
   ],
   "source": [
    "# 9\n",
    "list(i for i in range(1,101) if i%2!=0)\n"
   ]
  },
  {
   "cell_type": "code",
   "execution_count": 5,
   "id": "898e35f7-16cf-45b1-b5bf-944f02530ffa",
   "metadata": {},
   "outputs": [
    {
     "name": "stdin",
     "output_type": "stream",
     "text": [
      "enter the number 89\n"
     ]
    },
    {
     "name": "stdout",
     "output_type": "stream",
     "text": [
      "number is not palindrome\n"
     ]
    }
   ],
   "source": [
    "# 8\n",
    "n=int(input(\"enter the number\"))\n",
    "rev=0\n",
    "no=n\n",
    "while n>0:\n",
    "    r=n%10\n",
    "    rev=rev*10+r\n",
    "    n=n//10\n",
    "if (no==rev):\n",
    "    print(\"number is palindrome\")\n",
    "else:\n",
    "    print(\"number is not palindrome\")\n"
   ]
  },
  {
   "cell_type": "code",
   "execution_count": 6,
   "id": "c8a0c3cf-ef44-428f-8845-9dff3f086c84",
   "metadata": {},
   "outputs": [],
   "source": [
    "# 4\n",
    "\"\"\"A generator function is a special kind of iterator in Python,  \n",
    "and it uses the yield keyword to produce a series of values over time, \n",
    "rather than computing them all at once and storing them in memory.\"\"\"\n",
    "def lists ():\n",
    "    for i in range(10):\n",
    "        yield i"
   ]
  },
  {
   "cell_type": "code",
   "execution_count": 8,
   "id": "cb2cb7c8-4b52-4d3a-ad01-dc9bcd9604a5",
   "metadata": {},
   "outputs": [
    {
     "data": {
      "text/plain": [
       "[0, 1, 2, 3, 4, 5, 6, 7, 8, 9]"
      ]
     },
     "execution_count": 8,
     "metadata": {},
     "output_type": "execute_result"
    }
   ],
   "source": [
    "list(lists())"
   ]
  },
  {
   "cell_type": "code",
   "execution_count": 9,
   "id": "3ceaee25-4c7f-4ca8-8c83-03e4c9c59d9b",
   "metadata": {},
   "outputs": [
    {
     "name": "stdout",
     "output_type": "stream",
     "text": [
      "2\n",
      "3\n",
      "5\n",
      "7\n",
      "11\n",
      "13\n",
      "17\n",
      "19\n",
      "23\n",
      "29\n",
      "31\n",
      "37\n",
      "41\n",
      "43\n",
      "47\n",
      "53\n",
      "59\n",
      "61\n",
      "67\n",
      "71\n"
     ]
    }
   ],
   "source": [
    "# 5\n",
    "def prime_generator():\n",
    "    primes = []\n",
    "    num = 2\n",
    "    while len(primes) < 20:\n",
    "        for i in range(2, int(num**0.5) + 1):\n",
    "            if num % i == 0:\n",
    "                break\n",
    "        else:\n",
    "            primes.append(num)\n",
    "            yield num\n",
    "        num += 1\n",
    "\n",
    "# Using the generator function\n",
    "gen = prime_generator()\n",
    "for _ in range(20):\n",
    "    print(next(gen))\n"
   ]
  },
  {
   "cell_type": "code",
   "execution_count": null,
   "id": "9e711543-a7c0-473d-9ee1-56d75d087c0b",
   "metadata": {},
   "outputs": [],
   "source": []
  }
 ],
 "metadata": {
  "kernelspec": {
   "display_name": "Python 3 (ipykernel)",
   "language": "python",
   "name": "python3"
  },
  "language_info": {
   "codemirror_mode": {
    "name": "ipython",
    "version": 3
   },
   "file_extension": ".py",
   "mimetype": "text/x-python",
   "name": "python",
   "nbconvert_exporter": "python",
   "pygments_lexer": "ipython3",
   "version": "3.10.8"
  }
 },
 "nbformat": 4,
 "nbformat_minor": 5
}

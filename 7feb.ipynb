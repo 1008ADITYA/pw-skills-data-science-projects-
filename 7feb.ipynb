{
 "cells": [
  {
   "cell_type": "code",
   "execution_count": 1,
   "id": "bb511f99-09cb-4ef7-9022-a1482e238522",
   "metadata": {},
   "outputs": [],
   "source": [
    "# 1\n",
    "def password(l):\n",
    "    a,b,c,d=0,0,0,0\n",
    "    if len(l)==10:\n",
    "        for i in l:\n",
    "            if i.islower():\n",
    "                a=a+1\n",
    "            \n",
    "            elif i.isupper():\n",
    "                b=b+1\n",
    "            \n",
    "            elif i.isdigit():\n",
    "                c=c+1\n",
    "            elif not i.isalnum():\n",
    "                d=d+1\n",
    "    if a>1 and b>1 and c>0 and d>2 :\n",
    "        print(\"valid password\")\n",
    "    else:\n",
    "        print(\"invalid password\")\n",
    "            \n",
    "            \n"
   ]
  },
  {
   "cell_type": "code",
   "execution_count": 2,
   "id": "551a429d-c1fd-462c-968d-73f8528ae28d",
   "metadata": {},
   "outputs": [
    {
     "name": "stdin",
     "output_type": "stream",
     "text": [
      " aa1!@#AAgg\n"
     ]
    },
    {
     "name": "stdout",
     "output_type": "stream",
     "text": [
      "valid password\n"
     ]
    }
   ],
   "source": [
    "password(input())"
   ]
  },
  {
   "cell_type": "code",
   "execution_count": 3,
   "id": "d2a29d1f-10cb-4577-a2fe-a0bb1e8e53d9",
   "metadata": {},
   "outputs": [
    {
     "name": "stdin",
     "output_type": "stream",
     "text": [
      "enter a character a\n",
      "enter the string aditya\n"
     ]
    },
    {
     "name": "stdout",
     "output_type": "stream",
     "text": [
      "match successful\n"
     ]
    }
   ],
   "source": [
    "# 2a string starts with a particular letter\n",
    "a=lambda ch,s :print(\"match successful\") if s[0]==ch else print(\"unmatched\")\n",
    "char=input(\"enter a character\")\n",
    "string=input(\"enter the string\")\n",
    "a(char.lower(),string.lower())\n",
    "\n"
   ]
  },
  {
   "cell_type": "code",
   "execution_count": 27,
   "id": "5a8a0c6b-a419-4f5e-8ce2-c65dcb92ea1f",
   "metadata": {},
   "outputs": [
    {
     "name": "stdin",
     "output_type": "stream",
     "text": [
      "enter the string jjd232\n"
     ]
    },
    {
     "name": "stdout",
     "output_type": "stream",
     "text": [
      "not a numeric string\n"
     ]
    }
   ],
   "source": [
    "# 2b check if the string is numeric\n",
    "b=lambda s: all(i.isdigit() or i=='.' for i in s)\n",
    "string=input(\"enter the string\")\n",
    "if b(string):\n",
    "    print(\"numeric string\")\n",
    "else:\n",
    "    print(\"not a numeric string\")"
   ]
  },
  {
   "cell_type": "code",
   "execution_count": 1,
   "id": "6dde4d34-8964-48d2-b3c3-3ee87163dccf",
   "metadata": {},
   "outputs": [
    {
     "name": "stdout",
     "output_type": "stream",
     "text": [
      "[('orange', 80), ('mango', 99), ('grapes', 1000)]\n"
     ]
    }
   ],
   "source": [
    "# 2c\n",
    "list_=[(\"mango\",99),(\"orange\",80),(\"grapes\",1000)]\n",
    "a=sorted(list_,key=lambda x:x[1])\n",
    "print(a)"
   ]
  },
  {
   "cell_type": "code",
   "execution_count": 5,
   "id": "fcb34963-4b22-411b-b207-e8f345bc0bc1",
   "metadata": {},
   "outputs": [
    {
     "name": "stdout",
     "output_type": "stream",
     "text": [
      "[1, 4, 9, 16, 25, 36, 49, 64, 81, 100, 121, 144, 169, 196, 225, 256, 289, 324, 361, 400, 441, 484, 529, 576, 625, 676, 729, 784, 841, 900, 961, 1024, 1089, 1156, 1225, 1296, 1369, 1444, 1521, 1600, 1681, 1764, 1849, 1936, 2025, 2116, 2209, 2304, 2401, 2500, 2601, 2704, 2809, 2916, 3025, 3136, 3249, 3364, 3481, 3600, 3721, 3844, 3969, 4096, 4225, 4356, 4489, 4624, 4761, 4900, 5041, 5184, 5329, 5476, 5625, 5776, 5929, 6084, 6241, 6400, 6561, 6724, 6889, 7056, 7225, 7396, 7569, 7744, 7921, 8100, 8281, 8464, 8649, 8836, 9025, 9216, 9409, 9604, 9801, 10000]\n"
     ]
    }
   ],
   "source": [
    "# 2d\n",
    "a=list(map(lambda x:x**2,range(1,101)))\n",
    "print(a)"
   ]
  },
  {
   "cell_type": "code",
   "execution_count": 9,
   "id": "18430cfb-601a-4ca4-90ff-055de033d4db",
   "metadata": {},
   "outputs": [
    {
     "name": "stdout",
     "output_type": "stream",
     "text": [
      "[0.3333333333333333, 0.6666666666666666, 1.0, 1.3333333333333333, 1.6666666666666667, 2.0, 2.3333333333333335, 2.6666666666666665, 3.0, 3.3333333333333335]\n"
     ]
    }
   ],
   "source": [
    "# 2e\n",
    "b=list(map(lambda x:x**1/3,range(1,11)))\n",
    "print(b)"
   ]
  },
  {
   "cell_type": "code",
   "execution_count": 19,
   "id": "525723e3-79ab-4b96-995d-1654886699ec",
   "metadata": {},
   "outputs": [
    {
     "name": "stdin",
     "output_type": "stream",
     "text": [
      "enter the number 34\n"
     ]
    },
    {
     "name": "stdout",
     "output_type": "stream",
     "text": [
      "34 is a even\n"
     ]
    },
    {
     "data": {
      "text/plain": [
       "[None]"
      ]
     },
     "execution_count": 19,
     "metadata": {},
     "output_type": "execute_result"
    }
   ],
   "source": [
    "# 2f\n",
    "x=int(input(\"enter the number\"))\n",
    "[print(x,\"is a even\") if  x%2==0 else print(x,\"not an even number\")]"
   ]
  },
  {
   "cell_type": "code",
   "execution_count": 23,
   "id": "be3e1933-435c-4e20-9758-beef03034487",
   "metadata": {},
   "outputs": [
    {
     "name": "stdout",
     "output_type": "stream",
     "text": [
      "[1, 3, 5, 7, 9]\n"
     ]
    }
   ],
   "source": [
    "# 2g\n",
    "list_=[1,2,3,4,5,6,7,8,9,10]\n",
    "a=list(filter(lambda x: x%2 !=0,list_))\n",
    "print(a)"
   ]
  },
  {
   "cell_type": "code",
   "execution_count": 31,
   "id": "8f95b506-3e9a-47f5-97e3-f59592ef5545",
   "metadata": {},
   "outputs": [
    {
     "name": "stdout",
     "output_type": "stream",
     "text": [
      "Positive list: [0, 1, 2, 3, 4, 5, 6]\n",
      "Negative list: [-5, -4, -3, -2, -1]\n"
     ]
    }
   ],
   "source": [
    "# 2h\n",
    "list_ = [1, 2, 3, 4, 5, 6, -1, -2, -3, -4, -5, 0]\n",
    "list_p = sorted([i for i in list_ if i >= 0])\n",
    "list_n = sorted([i for i in list_ if i < 0])\n",
    "\n",
    "print(\"Positive list:\", list_p)\n",
    "print(\"Negative list:\", list_n)\n"
   ]
  }
 ],
 "metadata": {
  "kernelspec": {
   "display_name": "Python 3 (ipykernel)",
   "language": "python",
   "name": "python3"
  },
  "language_info": {
   "codemirror_mode": {
    "name": "ipython",
    "version": 3
   },
   "file_extension": ".py",
   "mimetype": "text/x-python",
   "name": "python",
   "nbconvert_exporter": "python",
   "pygments_lexer": "ipython3",
   "version": "3.10.8"
  }
 },
 "nbformat": 4,
 "nbformat_minor": 5
}

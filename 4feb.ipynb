{
 "cells": [
  {
   "cell_type": "code",
   "execution_count": 33,
   "id": "c4c43ba6-79b7-4072-8e6f-1b12bcea7a88",
   "metadata": {},
   "outputs": [
    {
     "name": "stdout",
     "output_type": "stream",
     "text": [
      "[('virat kohli', 24936), ('jack kallis', 25534), ('ricky pointing', 27483), ('sachin tendulkar', 34357)]\n"
     ]
    }
   ],
   "source": [
    "# 1\n",
    "l=[('sachin tendulkar',34357),('ricky pointing',27483),('jack kallis',25534),('virat kohli',24936)]\n",
    "sort_l=sorted(l,key=lambda x:x[1])\n",
    "print(sort_l)"
   ]
  },
  {
   "cell_type": "code",
   "execution_count": 4,
   "id": "ef19a720-1943-4775-a289-81d834c9ab8d",
   "metadata": {},
   "outputs": [
    {
     "name": "stdout",
     "output_type": "stream",
     "text": [
      "[1, 4, 9, 16, 25, 36, 49, 64, 81, 100]\n"
     ]
    }
   ],
   "source": [
    "# 2\n",
    "number=[1,2,3,4,5,6,7,8,9,10]\n",
    "a=list(map(lambda x:x**2,number))\n",
    "print(a)"
   ]
  },
  {
   "cell_type": "code",
   "execution_count": 6,
   "id": "12f43f8e-7f6d-439a-ad26-592d90d12527",
   "metadata": {},
   "outputs": [
    {
     "name": "stdout",
     "output_type": "stream",
     "text": [
      "('1', '2', '3', '4', '5', '6', '7', '8', '9', '10')\n"
     ]
    }
   ],
   "source": [
    "# 3\n",
    "string=[1,2,3,4,5,6,7,8,9,10]\n",
    "a=tuple(map(lambda x:str(x),string))\n",
    "print(a)"
   ]
  },
  {
   "cell_type": "code",
   "execution_count": 7,
   "id": "7df2625e-f085-4795-9a7d-c71684f0d3a9",
   "metadata": {},
   "outputs": [
    {
     "name": "stdout",
     "output_type": "stream",
     "text": [
      "15511210043330985984000000\n"
     ]
    }
   ],
   "source": [
    "# 4\n",
    "from functools import reduce\n",
    "\n",
    "n=range(1,26)\n",
    "a=reduce(lambda x,y:x*y,n)\n",
    "print(a)"
   ]
  },
  {
   "cell_type": "code",
   "execution_count": 13,
   "id": "b9d69070-2dc2-48f7-9cdf-cb1020a7e942",
   "metadata": {},
   "outputs": [
    {
     "name": "stdout",
     "output_type": "stream",
     "text": [
      "[6, 60, 90, 120]\n"
     ]
    }
   ],
   "source": [
    "given_list=[2,3,6,9,27,60,90,120,55,46]\n",
    "a=list(filter(lambda x: x%2==0 and x%3==0,given_list))\n",
    "print(a)"
   ]
  },
  {
   "cell_type": "code",
   "execution_count": 28,
   "id": "5ab8cba9-4769-4f16-9d13-2308b2cbb1bb",
   "metadata": {},
   "outputs": [
    {
     "name": "stdout",
     "output_type": "stream",
     "text": [
      "['php', 'aba', 'radar', 'level']\n"
     ]
    }
   ],
   "source": [
    "# 6\n",
    "palindrome=['python','php','aba','radar','level']\n",
    "a=list(filter(lambda x:x==x[::-1],palindrome))\n",
    "print(a)\n"
   ]
  }
 ],
 "metadata": {
  "kernelspec": {
   "display_name": "Python 3 (ipykernel)",
   "language": "python",
   "name": "python3"
  },
  "language_info": {
   "codemirror_mode": {
    "name": "ipython",
    "version": 3
   },
   "file_extension": ".py",
   "mimetype": "text/x-python",
   "name": "python",
   "nbconvert_exporter": "python",
   "pygments_lexer": "ipython3",
   "version": "3.10.8"
  }
 },
 "nbformat": 4,
 "nbformat_minor": 5
}

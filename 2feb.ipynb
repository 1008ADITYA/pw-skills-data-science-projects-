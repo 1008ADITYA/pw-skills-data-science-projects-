{
 "cells": [
  {
   "cell_type": "code",
   "execution_count": null,
   "id": "4db21b7f-8555-42d1-b3a2-43f1777e7243",
   "metadata": {},
   "outputs": [],
   "source": [
    "# 1\n",
    "\"\"\"For Loop:\n",
    "A for loop is used when you know the exact number of times you want to iterate through a block of code.\n",
    "It's commonly used to iterate over a sequence (like a list, tuple, dictionary, set, or string).\n",
    "\n",
    "example of a for loop that prints the numbers 1 through 5:\n",
    "\n",
    "for i in range(1, 6):\n",
    "    print(i)\n",
    "    \n",
    "\n",
    "While Loop:\n",
    "A while loop is used when you want to repeat a block of code an unknown number of times until a certain condition is met.\n",
    "\n",
    " example of a while loop that prints numbers starting from 1 and doubles the number in each iteration until the number is less than 100:\n",
    "\n",
    "\n",
    "i = 1\n",
    "while i < 100:\n",
    "    print(i)\n",
    "    i *= 2\n",
    "\n",
    "\n",
    "In this while loop, we don't know beforehand how many times the loop will execute. It keeps doubling `i` and printing it until `i` is no longer less than 100. \n",
    "\n",
    "Remember, it's important to ensure that the condition in a `while` loop changes during the course of the loop to avoid infinite loops.\"\"\" "
   ]
  },
  {
   "cell_type": "code",
   "execution_count": 1,
   "id": "4c53bca5-5e4c-4812-aa1a-3be116e6a7dd",
   "metadata": {},
   "outputs": [
    {
     "name": "stdout",
     "output_type": "stream",
     "text": [
      "sum of first 10 numbers = 55\n",
      "product of first 10 numbers = 3628800\n"
     ]
    }
   ],
   "source": [
    "# 2a\n",
    "# using for loop\n",
    "s=0\n",
    "p=1\n",
    "for i in range(1,11):\n",
    "    s=s+i\n",
    "    p=p*i\n",
    "print(\"sum of first 10 numbers =\",s)\n",
    "print(\"product of first 10 numbers =\",p)"
   ]
  },
  {
   "cell_type": "code",
   "execution_count": 3,
   "id": "0575f145-206f-4490-95fe-f095b53a0025",
   "metadata": {},
   "outputs": [
    {
     "name": "stdout",
     "output_type": "stream",
     "text": [
      "sum of first 10 numbers = 55\n",
      "product of first 10 numbers = 3628800\n"
     ]
    }
   ],
   "source": [
    "# 2b\n",
    "# using while loop\n",
    "s=0\n",
    "p=1\n",
    "n=1\n",
    "while n<=10:\n",
    "    s=s+n\n",
    "    p=p*n\n",
    "    n=n+1\n",
    "print(\"sum of first 10 numbers =\",s)\n",
    "print(\"product of first 10 numbers =\",p)\n"
   ]
  },
  {
   "cell_type": "code",
   "execution_count": null,
   "id": "b8eb25a0-40f7-4bd0-9087-686ed65fe4db",
   "metadata": {},
   "outputs": [
    {
     "name": "stdin",
     "output_type": "stream",
     "text": [
      "enter the consumed electricity units 310\n"
     ]
    },
    {
     "name": "stdout",
     "output_type": "stream",
     "text": [
      "2250.0\n"
     ]
    }
   ],
   "source": [
    "# 3 electricity bill\n",
    "unit=int(input(\"enter the consumed electricity units\"))\n",
    "if unit<=100:\n",
    "    bill=unit*4.5\n",
    "elif unit>100 and unit<=200 :\n",
    "    bill=(100*4.5)+(unit-100)*6\n",
    "elif unit>200and unit<=300 :\n",
    "    bill=(100*4.5)+(100*6)+(unit-200)*10\n",
    "else:\n",
    "    bill=(100*4.5)+(100*6)+(100*10)+(unit-300)*20\n",
    "print(bill)    "
   ]
  },
  {
   "cell_type": "code",
   "execution_count": 6,
   "id": "b66f867a-f2b1-4736-a6a9-fe8821af1bc0",
   "metadata": {},
   "outputs": [
    {
     "name": "stdout",
     "output_type": "stream",
     "text": [
      "1\n",
      "8\n",
      "27\n",
      "64\n",
      "125\n",
      "216\n",
      "343\n",
      "512\n",
      "729\n",
      "1000\n",
      "1331\n",
      "1728\n",
      "2197\n",
      "2744\n",
      "3375\n",
      "4096\n",
      "4913\n",
      "5832\n",
      "6859\n",
      "8000\n",
      "9261\n",
      "10648\n",
      "12167\n",
      "13824\n",
      "15625\n",
      "17576\n",
      "19683\n",
      "21952\n",
      "24389\n",
      "27000\n",
      "29791\n",
      "32768\n",
      "35937\n",
      "39304\n",
      "42875\n",
      "46656\n",
      "50653\n",
      "54872\n",
      "59319\n",
      "64000\n",
      "68921\n",
      "74088\n",
      "79507\n",
      "85184\n",
      "91125\n",
      "97336\n",
      "103823\n",
      "110592\n",
      "117649\n",
      "125000\n",
      "132651\n",
      "140608\n",
      "148877\n",
      "157464\n",
      "166375\n",
      "175616\n",
      "185193\n",
      "195112\n",
      "205379\n",
      "216000\n",
      "226981\n",
      "238328\n",
      "250047\n",
      "262144\n",
      "274625\n",
      "287496\n",
      "300763\n",
      "314432\n",
      "328509\n",
      "343000\n",
      "357911\n",
      "373248\n",
      "389017\n",
      "405224\n",
      "421875\n",
      "438976\n",
      "456533\n",
      "474552\n",
      "493039\n",
      "512000\n",
      "531441\n",
      "551368\n",
      "571787\n",
      "592704\n",
      "614125\n",
      "636056\n",
      "658503\n",
      "681472\n",
      "704969\n",
      "729000\n",
      "753571\n",
      "778688\n",
      "804357\n",
      "830584\n",
      "857375\n",
      "884736\n",
      "912673\n",
      "941192\n",
      "970299\n",
      "1000000\n",
      "[2, 4, 5, 6, 8, 10, 12, 14, 15, 16, 18, 20, 22, 24, 25, 26, 28, 30, 32, 34, 35, 36, 38, 40, 42, 44, 45, 46, 48, 50, 52, 54, 55, 56, 58, 60, 62, 64, 65, 66, 68, 70, 72, 74, 75, 76, 78, 80, 82, 84, 85, 86, 88, 90, 92, 94, 95, 96, 98, 100]\n"
     ]
    }
   ],
   "source": [
    "# 4a\n",
    "l=list(range(1,101))\n",
    "l1=[]\n",
    "for i in l:\n",
    "    z=i**3\n",
    "    print(z)\n",
    "    if z%4==0 or z%5==0:\n",
    "        l1.append(i)\n",
    "print(l1)    \n"
   ]
  },
  {
   "cell_type": "code",
   "execution_count": 1,
   "id": "be2862b0-f0b0-4b29-af21-c75581532140",
   "metadata": {},
   "outputs": [
    {
     "name": "stdout",
     "output_type": "stream",
     "text": [
      "[2, 4, 5, 6, 8, 10, 12, 14, 15, 16, 18, 20, 22, 24, 25, 26, 28, 30, 32, 34, 35, 36, 38, 40, 42, 44, 45, 46, 48, 50, 52, 54, 55, 56, 58, 60, 62, 64, 65, 66, 68, 70, 72, 74, 75, 76, 78, 80, 82, 84, 85, 86, 88, 90, 92, 94, 95, 96, 98, 100]\n"
     ]
    }
   ],
   "source": [
    "# 4b\n",
    "l1=[]\n",
    "n=1\n",
    "while n<=100:\n",
    "    cube=n**3\n",
    "    if cube%4==0 or cube%5==0:\n",
    "        l1.append(n)\n",
    "    n=n+1\n",
    "print(l1)    \n"
   ]
  },
  {
   "cell_type": "code",
   "execution_count": 2,
   "id": "0683ec6c-93ef-449c-98ca-53eeef7e3af4",
   "metadata": {},
   "outputs": [
    {
     "name": "stdout",
     "output_type": "stream",
     "text": [
      "['I', 'a', 'o', 'e', 'o', 'e', 'a', 'a', 'a', 'i', 'e', 'i']\n"
     ]
    }
   ],
   "source": [
    "# 5\n",
    "string=\"I want to become a data scientist\"\n",
    "vowels=\"aeiouAEIOU\"\n",
    "l1=[]\n",
    "for i in string:\n",
    "    if i in vowels:\n",
    "        l1.append(i)\n",
    "print(l1)        "
   ]
  }
 ],
 "metadata": {
  "kernelspec": {
   "display_name": "Python 3 (ipykernel)",
   "language": "python",
   "name": "python3"
  },
  "language_info": {
   "codemirror_mode": {
    "name": "ipython",
    "version": 3
   },
   "file_extension": ".py",
   "mimetype": "text/x-python",
   "name": "python",
   "nbconvert_exporter": "python",
   "pygments_lexer": "ipython3",
   "version": "3.10.8"
  }
 },
 "nbformat": 4,
 "nbformat_minor": 5
}
